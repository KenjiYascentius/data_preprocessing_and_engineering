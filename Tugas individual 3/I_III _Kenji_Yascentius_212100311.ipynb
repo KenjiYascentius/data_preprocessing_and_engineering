{
 "cells": [
  {
   "cell_type": "markdown",
   "metadata": {},
   "source": [
    "### Import library"
   ]
  },
  {
   "cell_type": "code",
   "execution_count": 1,
   "metadata": {},
   "outputs": [],
   "source": [
    "from pandas import read_csv,concat\n",
    "from sklearn.model_selection import cross_val_score,RepeatedStratifiedKFold\n",
    "from sklearn.linear_model import LinearRegression\n",
    "from sklearn.metrics import make_scorer, mean_absolute_error\n",
    "from sklearn.preprocessing import MinMaxScaler,StandardScaler,RobustScaler,OrdinalEncoder,OneHotEncoder\n",
    "import numpy as np\n",
    "from numpy import mean, std\n",
    "from matplotlib import pyplot\n",
    "from scipy.sparse import hstack"
   ]
  },
  {
   "cell_type": "markdown",
   "metadata": {},
   "source": [
    "### Eksplorasi data"
   ]
  },
  {
   "cell_type": "code",
   "execution_count": 2,
   "metadata": {},
   "outputs": [
    {
     "name": "stdout",
     "output_type": "stream",
     "text": [
      "(82, 9)\n"
     ]
    },
    {
     "data": {
      "text/html": [
       "<div>\n",
       "<style scoped>\n",
       "    .dataframe tbody tr th:only-of-type {\n",
       "        vertical-align: middle;\n",
       "    }\n",
       "\n",
       "    .dataframe tbody tr th {\n",
       "        vertical-align: top;\n",
       "    }\n",
       "\n",
       "    .dataframe thead th {\n",
       "        text-align: right;\n",
       "    }\n",
       "</style>\n",
       "<table border=\"1\" class=\"dataframe\">\n",
       "  <thead>\n",
       "    <tr style=\"text-align: right;\">\n",
       "      <th></th>\n",
       "      <th>waktu</th>\n",
       "      <th>arah</th>\n",
       "      <th>koridor</th>\n",
       "      <th>target_kecepatan</th>\n",
       "      <th>jarak</th>\n",
       "      <th>target_waktu_tempuh</th>\n",
       "      <th>pencapaian_kecepatan_per_koridor</th>\n",
       "      <th>pencapaian_kecepatan</th>\n",
       "      <th>pencapaian_waktu_tempuh</th>\n",
       "    </tr>\n",
       "  </thead>\n",
       "  <tbody>\n",
       "    <tr>\n",
       "      <th>0</th>\n",
       "      <td>pagi</td>\n",
       "      <td>Selatan - Pusat</td>\n",
       "      <td>Lenteng Agung - Ps. Minggu - Supomo - dr. Saha...</td>\n",
       "      <td>20.5</td>\n",
       "      <td>19.62</td>\n",
       "      <td>57.43</td>\n",
       "      <td>22.70</td>\n",
       "      <td>22.98</td>\n",
       "      <td>63.83</td>\n",
       "    </tr>\n",
       "    <tr>\n",
       "      <th>1</th>\n",
       "      <td>pagi</td>\n",
       "      <td>Selatan - Pusat</td>\n",
       "      <td>Cilandak KKO - Warung Buncit - Mampang Prapata...</td>\n",
       "      <td>20.5</td>\n",
       "      <td>13.36</td>\n",
       "      <td>39.10</td>\n",
       "      <td>25.43</td>\n",
       "      <td>22.98</td>\n",
       "      <td>37.71</td>\n",
       "    </tr>\n",
       "    <tr>\n",
       "      <th>2</th>\n",
       "      <td>pagi</td>\n",
       "      <td>Selatan - Pusat</td>\n",
       "      <td>Pangeran Antasari - Prapanca - Iskandarsyah - ...</td>\n",
       "      <td>20.5</td>\n",
       "      <td>11.13</td>\n",
       "      <td>32.58</td>\n",
       "      <td>27.54</td>\n",
       "      <td>22.98</td>\n",
       "      <td>26.99</td>\n",
       "    </tr>\n",
       "    <tr>\n",
       "      <th>3</th>\n",
       "      <td>pagi</td>\n",
       "      <td>Selatan - Pusat</td>\n",
       "      <td>Pondok Labu - Fatmawati - Panglima Polim - Sis...</td>\n",
       "      <td>20.5</td>\n",
       "      <td>16.25</td>\n",
       "      <td>47.56</td>\n",
       "      <td>22.20</td>\n",
       "      <td>22.98</td>\n",
       "      <td>50.82</td>\n",
       "    </tr>\n",
       "    <tr>\n",
       "      <th>4</th>\n",
       "      <td>pagi</td>\n",
       "      <td>Selatan - Pusat</td>\n",
       "      <td>Pasar Jumat - Metro Pondok Indah - Iskandar Mu...</td>\n",
       "      <td>20.5</td>\n",
       "      <td>15.87</td>\n",
       "      <td>46.45</td>\n",
       "      <td>25.99</td>\n",
       "      <td>22.98</td>\n",
       "      <td>42.06</td>\n",
       "    </tr>\n",
       "  </tbody>\n",
       "</table>\n",
       "</div>"
      ],
      "text/plain": [
       "  waktu             arah                                            koridor  \\\n",
       "0  pagi  Selatan - Pusat  Lenteng Agung - Ps. Minggu - Supomo - dr. Saha...   \n",
       "1  pagi  Selatan - Pusat  Cilandak KKO - Warung Buncit - Mampang Prapata...   \n",
       "2  pagi  Selatan - Pusat  Pangeran Antasari - Prapanca - Iskandarsyah - ...   \n",
       "3  pagi  Selatan - Pusat  Pondok Labu - Fatmawati - Panglima Polim - Sis...   \n",
       "4  pagi  Selatan - Pusat  Pasar Jumat - Metro Pondok Indah - Iskandar Mu...   \n",
       "\n",
       "   target_kecepatan  jarak  target_waktu_tempuh  \\\n",
       "0              20.5  19.62                57.43   \n",
       "1              20.5  13.36                39.10   \n",
       "2              20.5  11.13                32.58   \n",
       "3              20.5  16.25                47.56   \n",
       "4              20.5  15.87                46.45   \n",
       "\n",
       "   pencapaian_kecepatan_per_koridor  pencapaian_kecepatan  \\\n",
       "0                             22.70                 22.98   \n",
       "1                             25.43                 22.98   \n",
       "2                             27.54                 22.98   \n",
       "3                             22.20                 22.98   \n",
       "4                             25.99                 22.98   \n",
       "\n",
       "   pencapaian_waktu_tempuh  \n",
       "0                    63.83  \n",
       "1                    37.71  \n",
       "2                    26.99  \n",
       "3                    50.82  \n",
       "4                    42.06  "
      ]
     },
     "metadata": {},
     "output_type": "display_data"
    }
   ],
   "source": [
    "# Melihat bentuk dari tabel data\n",
    "\n",
    "dataset = read_csv('kecepatan-rata-rata-di-41-koridor-jalan-utama-pada-jam-sibuk-januari-2019.csv')\n",
    "print(dataset.shape)\n",
    "display(dataset.head(5))"
   ]
  },
  {
   "cell_type": "markdown",
   "metadata": {},
   "source": [
    "### Fungsi untuk mendapatkan data yang sudah digabungkan"
   ]
  },
  {
   "cell_type": "code",
   "execution_count": 3,
   "metadata": {},
   "outputs": [],
   "source": [
    "# Menggabungkan seluruh data\n",
    "\n",
    "def get_data():\n",
    "    dataset = read_csv('kecepatan-rata-rata-di-41-koridor-jalan-utama-pada-jam-sibuk-januari-2019.csv')\n",
    "    months = ['februari','maret','april','mei','juni','juli','agustus','september','oktober','november','desember']\n",
    "\n",
    "    for month in months:\n",
    "        temp = read_csv(f'{month}-2019-data-kecepatan-rata-rata-di-41-koridor-jalan-utama-pada-jam-sibuk.csv')\n",
    "\n",
    "        # Mengubah nama header yang salah tulis menjadi benar\n",
    "        if month == 'april':\n",
    "            temp = temp.rename(columns={\"pencapaian_Waktu_tempuh\":\"pencapaian_waktu_tempuh\"})\n",
    "        dataset = concat([dataset,temp],ignore_index=True)\n",
    "    return dataset"
   ]
  },
  {
   "cell_type": "markdown",
   "metadata": {},
   "source": [
    "Setelah menjalankan sekali ditemukan bahwa di data April ada kolom yang penulisan headernya berbeda dari yang lain sehingga menambahkan kolom ke 10. Karena itu nama kolom tersebut harus diubah"
   ]
  },
  {
   "cell_type": "markdown",
   "metadata": {},
   "source": [
    "### Menghitung akurasi model regresi linear tanpa menggunakan scaling maupun encoder"
   ]
  },
  {
   "cell_type": "markdown",
   "metadata": {},
   "source": [
    "#### Membersihkan data"
   ]
  },
  {
   "cell_type": "code",
   "execution_count": 4,
   "metadata": {},
   "outputs": [
    {
     "name": "stdout",
     "output_type": "stream",
     "text": [
      "waktu                                 4\n",
      "arah                                 10\n",
      "koridor                              41\n",
      "target_kecepatan                      6\n",
      "jarak                                41\n",
      "target_waktu_tempuh                 237\n",
      "pencapaian_kecepatan_per_koridor    761\n",
      "pencapaian_kecepatan                182\n",
      "pencapaian_waktu_tempuh             846\n",
      "dtype: int64\n",
      "\n",
      "Any Duplicates?  True\n",
      "    waktu arah koridor  target_kecepatan  jarak  target_waktu_tempuh  \\\n",
      "411   NaN  NaN     NaN               NaN    NaN                  NaN   \n",
      "\n",
      "     pencapaian_kecepatan_per_koridor  pencapaian_kecepatan  \\\n",
      "411                               NaN                   NaN   \n",
      "\n",
      "     pencapaian_waktu_tempuh  \n",
      "411                      NaN  \n",
      "number of duplicates:  1\n",
      "\n",
      "Any Duplicates?  False\n",
      "\n",
      "Total missing value 50\n"
     ]
    }
   ],
   "source": [
    "dataset = get_data()\n",
    "\n",
    "# Cek apakah ada kolom single value \n",
    "print(dataset.nunique())\n",
    "\n",
    "duplicates = dataset.duplicated()\n",
    "print(\"\\nAny Duplicates? \", duplicates.any())\n",
    "print(dataset[duplicates])\n",
    "print(\"number of duplicates: \",duplicates.sum())\n",
    "dataset.drop_duplicates(inplace=True)\n",
    "print(\"\\nAny Duplicates? \",dataset.duplicated().any())\n",
    "\n",
    "print(\"\\nTotal missing value\",dataset.isnull().sum().sum())\n"
   ]
  },
  {
   "cell_type": "markdown",
   "metadata": {},
   "source": [
    "Melihat data yang hilang"
   ]
  },
  {
   "cell_type": "code",
   "execution_count": 5,
   "metadata": {},
   "outputs": [
    {
     "name": "stdout",
     "output_type": "stream",
     "text": [
      "\n",
      "Rows with Complete Missing Data:  (1, 9)\n",
      "    waktu arah koridor  target_kecepatan  jarak  target_waktu_tempuh  \\\n",
      "410   NaN  NaN     NaN               NaN    NaN                  NaN   \n",
      "\n",
      "     pencapaian_kecepatan_per_koridor  pencapaian_kecepatan  \\\n",
      "410                               NaN                   NaN   \n",
      "\n",
      "     pencapaian_waktu_tempuh  \n",
      "410                      NaN  \n",
      "\n",
      "Rows with Partial Missing Data: (41, 9)\n",
      "    waktu             arah                                            koridor  \\\n",
      "287  sore  Selatan - Pusat  Lenteng Agung - Ps. Minggu - Supomo - dr. Saha...   \n",
      "288  sore  Selatan - Pusat  Cilandak KKO - Warung Buncit - Mampang Prapata...   \n",
      "289  sore  Selatan - Pusat  Pangeran Antasari - Prapanca - Iskandarsyah - ...   \n",
      "290  sore  Selatan - Pusat  Pondok Labu - Fatmawati - Panglima Polim - Sis...   \n",
      "291  sore  Selatan - Pusat  Pasar Jumat - Metro Pondok Indah - Iskandar Mu...   \n",
      "292  sore  Selatan - Pusat  Ciledug Raya - Keb Lama - Pakubuwono 6 - Hang ...   \n",
      "293  sore  Selatan - Pusat  Raya Ciputat - Tanah Kusir - Bungur - Iskandar...   \n",
      "294  sore    Timur - Pusat  Raya Bekasi - Perintis Kemerdekaan - Letjend. ...   \n",
      "295  sore    Timur - Pusat  Raya Bekasi - Pemuda - Pramuka - Proklamasi - ...   \n",
      "296  sore    Timur - Pusat  I Gusti Ngurah Rai - Jatinegara Barat - Matram...   \n",
      "297  sore    Timur - Pusat  Kalimalang - Basuki Rahmat - Kampung Melayu - ...   \n",
      "298  sore    Timur - Pusat  Pondok Kopi - Sukamto - Kolonel Sugiono - Basu...   \n",
      "299  sore    Utara - Pusat  Pluit - Pluit Timur - Jembatan Tiga - Jembatan...   \n",
      "300  sore    Utara - Pusat  Priok - RE. Martadinata - Gunung Sahari - dr. ...   \n",
      "301  sore    Utara - Pusat  Priok - RE. Martadinata - Sunter Barat - Kemay...   \n",
      "302  sore    Utara - Pusat  Priok - Yos Sudarso - Letjend. Suprapto - Sene...   \n",
      "303  sore    Utara - Pusat  Marunda - Cilincing Raya - Kramat Jaya - Pegan...   \n",
      "304  sore    Barat - Pusat  Kalideres - Daan Mogot - Kyai Tapa - Hasyim As...   \n",
      "305  sore    Barat - Pusat  Kalideres - Daan Mogot - S. Parman - Tomang Ra...   \n",
      "306  sore    Barat - Pusat  Joglo - Pos Pengumben - Panjang - Arjuna Selat...   \n",
      "307  sore    Barat - Pusat  Kedoya - Puri kembangan - Pesanggrahan - Meruy...   \n",
      "308  sore  Pusat - Selatan  Tugu Tani - Menteng Raya - Sultan Agung - Dr. ...   \n",
      "309  sore  Pusat - Selatan  HOS Cokroaminoto - Rasuna Said - Mampang Prapa...   \n",
      "310  sore  Pusat - Selatan  MH. Thamrin - Jend. Sudirman - Pattimura - Isk...   \n",
      "311  sore  Pusat - Selatan  MH. Thamrin - Jend. Sudirman - Sisingamangaraj...   \n",
      "312  sore  Pusat - Selatan  Mas Mansyur (Tanah Abang) - Penjernihan 1 - Pe...   \n",
      "313  sore  Pusat - Selatan  Jend. Sudirman - Hang Tuah - Pakubuwono 6 - Ke...   \n",
      "314  sore    Pusat - Timur  Ridwan Rais - Prajurit KKO Usman & Harun - Let...   \n",
      "315  sore    Pusat - Timur  MH. Thamrin - Imam Bonjol - Diponegoro - Salem...   \n",
      "316  sore    Pusat - Timur  Salemba Raya - Matraman Raya - Jatinegara Timu...   \n",
      "317  sore    Pusat - Timur  Mas Mansyur - Satrio - Casablanca - Kampung Me...   \n",
      "318  sore    Pusat - Utara  Mas Mansyur - Satrio - Casablanca - Kampung Me...   \n",
      "319  sore    Pusat - Utara  Gajah Mada - Hasyim Ashari - Kyai Tapa - Latum...   \n",
      "320  sore    Pusat - Utara  Ir. H. Juanda - dr. Sutomo - Gunung Sahari - R...   \n",
      "321  sore    Pusat - Utara  dr. Sutomo - Angkasa - Kemayoran - Sunter Bara...   \n",
      "322  sore    Pusat - Utara  Ridwan Rais - Prajurit KKO Usman dan Harun - L...   \n",
      "323  sore    Pusat - Utara  Letjend. Suprapto - Yos Sudarso - Bollevard Ba...   \n",
      "324  sore    Pusat - Barat  Hayam Wuruk - Hasyim Ashari - Kyai Tapa - Daan...   \n",
      "325  sore    Pusat - Barat  Hayam Wuruk - Balikpapan - Tomang Raya - S. Pa...   \n",
      "326  sore    Pusat - Barat  Kebon Sirih - Jatibaru - Katamso - Kemanggisan...   \n",
      "327  sore    Pusat - Barat  Kebon Sirih - Jatibaru - Katamso - Kemanggisan...   \n",
      "\n",
      "     target_kecepatan  jarak  target_waktu_tempuh  \\\n",
      "287               NaN  19.62                51.19   \n",
      "288               NaN  13.36                34.85   \n",
      "289               NaN  11.13                29.03   \n",
      "290               NaN  16.25                42.39   \n",
      "291               NaN  15.87                41.40   \n",
      "292               NaN  12.25                31.96   \n",
      "293               NaN  13.40                34.96   \n",
      "294               NaN  17.08                44.56   \n",
      "295               NaN  21.21                55.33   \n",
      "296               NaN   9.39                24.50   \n",
      "297               NaN  14.87                38.79   \n",
      "298               NaN  18.91                49.33   \n",
      "299               NaN  12.89                33.63   \n",
      "300               NaN  12.73                33.21   \n",
      "301               NaN  11.39                29.71   \n",
      "302               NaN  14.45                37.70   \n",
      "303               NaN  20.11                52.46   \n",
      "304               NaN  13.71                35.77   \n",
      "305               NaN  14.85                38.74   \n",
      "306               NaN  14.67                38.27   \n",
      "307               NaN  14.56                37.98   \n",
      "308               NaN  20.62                53.79   \n",
      "309               NaN  13.42                35.01   \n",
      "310               NaN  10.93                28.51   \n",
      "311               NaN  17.05                44.48   \n",
      "312               NaN  15.75                41.09   \n",
      "313               NaN  13.20                34.43   \n",
      "314               NaN  16.32                42.57   \n",
      "315               NaN  18.79                49.02   \n",
      "316               NaN   8.45                22.04   \n",
      "317               NaN  14.92                38.92   \n",
      "318               NaN  18.31                47.77   \n",
      "319               NaN  14.38                37.51   \n",
      "320               NaN  12.86                33.55   \n",
      "321               NaN  11.38                29.69   \n",
      "322               NaN  13.13                34.25   \n",
      "323               NaN  20.29                52.93   \n",
      "324               NaN  14.47                37.75   \n",
      "325               NaN  15.55                40.57   \n",
      "326               NaN  17.43                45.47   \n",
      "327               NaN  16.23                42.34   \n",
      "\n",
      "     pencapaian_kecepatan_per_koridor  pencapaian_kecepatan  \\\n",
      "287                             24.19                 25.81   \n",
      "288                             24.36                 25.81   \n",
      "289                             27.08                 25.81   \n",
      "290                             23.33                 25.81   \n",
      "291                             31.67                 25.81   \n",
      "292                             23.51                 25.81   \n",
      "293                             26.51                 25.81   \n",
      "294                             23.42                 27.79   \n",
      "295                             27.85                 27.79   \n",
      "296                             25.34                 27.79   \n",
      "297                             30.81                 27.79   \n",
      "298                             31.50                 27.79   \n",
      "299                             19.96                 21.20   \n",
      "300                             20.46                 21.20   \n",
      "301                             23.41                 21.20   \n",
      "302                             19.37                 21.20   \n",
      "303                             22.81                 21.20   \n",
      "304                             26.80                 28.14   \n",
      "305                             26.27                 28.14   \n",
      "306                             29.44                 28.14   \n",
      "307                             30.06                 28.14   \n",
      "308                             20.73                 20.95   \n",
      "309                             21.14                 20.95   \n",
      "310                             30.32                 20.95   \n",
      "311                             18.15                 20.95   \n",
      "312                             19.57                 20.95   \n",
      "313                             15.81                 20.95   \n",
      "314                             23.46                 21.27   \n",
      "315                             22.80                 21.27   \n",
      "316                             23.48                 21.27   \n",
      "317                             15.47                 21.27   \n",
      "318                             21.13                 21.27   \n",
      "319                             15.05                 21.94   \n",
      "320                             24.52                 21.94   \n",
      "321                             25.50                 21.94   \n",
      "322                             23.71                 21.94   \n",
      "323                             20.93                 21.94   \n",
      "324                             21.28                 20.70   \n",
      "325                             17.94                 20.70   \n",
      "326                             22.49                 20.70   \n",
      "327                             21.09                 20.70   \n",
      "\n",
      "     pencapaian_waktu_tempuh  \n",
      "287                    51.88  \n",
      "288                    34.06  \n",
      "289                    27.29  \n",
      "290                    44.83  \n",
      "291                    31.88  \n",
      "292                    33.38  \n",
      "293                    31.08  \n",
      "294                    48.04  \n",
      "295                    60.11  \n",
      "296                    24.79  \n",
      "297                    29.35  \n",
      "298                    41.26  \n",
      "299                    39.53  \n",
      "300                    37.85  \n",
      "301                    29.54  \n",
      "302                    45.13  \n",
      "303                    53.25  \n",
      "304                    34.33  \n",
      "305                    39.78  \n",
      "306                    35.29  \n",
      "307                    34.28  \n",
      "308                    70.96  \n",
      "309                    45.21  \n",
      "310                    33.64  \n",
      "311                    67.07  \n",
      "312                    55.49  \n",
      "313                    51.83  \n",
      "314                    56.36  \n",
      "315                    61.63  \n",
      "316                    22.63  \n",
      "317                    61.65  \n",
      "318                    61.38  \n",
      "319                    58.57  \n",
      "320                    31.61  \n",
      "321                    27.21  \n",
      "322                    33.65  \n",
      "323                    58.90  \n",
      "324                    47.00  \n",
      "325                    58.43  \n",
      "326                    57.01  \n",
      "327                    55.61  \n"
     ]
    }
   ],
   "source": [
    "# Differentiating between rows with complete vs. partial missing data\n",
    "complete_missing_rows = dataset[dataset.isnull().all(axis=1)]\n",
    "partial_missing_rows = dataset[dataset.isnull().any(axis=1) & ~dataset.isnull().all(axis=1)]\n",
    "\n",
    "# Displaying the results\n",
    "print(\"\\nRows with Complete Missing Data: \",complete_missing_rows.shape)\n",
    "print(complete_missing_rows)\n",
    "\n",
    "print(\"\\nRows with Partial Missing Data:\",partial_missing_rows.shape)\n",
    "print(partial_missing_rows)"
   ]
  },
  {
   "cell_type": "markdown",
   "metadata": {},
   "source": [
    "Kita akan delete row yang semua _value_ nya _missing_"
   ]
  },
  {
   "cell_type": "code",
   "execution_count": 7,
   "metadata": {},
   "outputs": [
    {
     "name": "stdout",
     "output_type": "stream",
     "text": [
      "\n",
      "DataFrame setelah drop semua row yang seluruh Valuenya missing:\n",
      "(984, 9)\n"
     ]
    }
   ],
   "source": [
    "dataset_no_missing_row = dataset.dropna(how='all')\n",
    "print(\"\\nDataFrame setelah drop semua row yang seluruh Valuenya missing:\")\n",
    "print(dataset_no_missing_row.shape)"
   ]
  },
  {
   "cell_type": "markdown",
   "metadata": {},
   "source": [
    "#### Handling data yang hilang"
   ]
  },
  {
   "cell_type": "markdown",
   "metadata": {},
   "source": [
    "Cek kolom apa saja yang memiliki data hilang"
   ]
  },
  {
   "cell_type": "code",
   "execution_count": 8,
   "metadata": {},
   "outputs": [
    {
     "name": "stdout",
     "output_type": "stream",
     "text": [
      "\n",
      "Kolom yang memiliki missing value: \n",
      "Index(['target_kecepatan'], dtype='object')\n"
     ]
    }
   ],
   "source": [
    "columns_with_missing_values = dataset_no_missing_row.columns[dataset_no_missing_row.isnull().any()]\n",
    "\n",
    "print(\"\\nKolom yang memiliki missing value: \")\n",
    "print(columns_with_missing_values)"
   ]
  },
  {
   "cell_type": "markdown",
   "metadata": {},
   "source": [
    "Karena kolom yang memiliki missing value memiliki variasi yang kecil dan cukup insignifikan kita akan drop saja "
   ]
  },
  {
   "cell_type": "code",
   "execution_count": 9,
   "metadata": {},
   "outputs": [
    {
     "name": "stdout",
     "output_type": "stream",
     "text": [
      "\n",
      "Total missing value 0\n"
     ]
    }
   ],
   "source": [
    "dataset = dataset_no_missing_row.drop(['target_kecepatan'],axis=1)\n",
    "print(\"\\nTotal missing value\",dataset.isnull().sum().sum())\n"
   ]
  },
  {
   "cell_type": "markdown",
   "metadata": {},
   "source": [
    "### 1. Menghitung akurasi model regresi linear tanpa menggunakan scaling maupun encoder"
   ]
  },
  {
   "cell_type": "markdown",
   "metadata": {},
   "source": [
    "Function untuk evaluasi model"
   ]
  },
  {
   "cell_type": "code",
   "execution_count": 10,
   "metadata": {},
   "outputs": [],
   "source": [
    "def evaluate(model,X,y):\n",
    "    mae_scorer = make_scorer(mean_absolute_error, greater_is_better=False)\n",
    "    mae_scores = cross_val_score(model, X, y, scoring=mae_scorer, cv=5)\n",
    "\n",
    "    print(f\"MAE: {-mean(mae_scores)}, Stdev: {std(mae_scores)}\")"
   ]
  },
  {
   "cell_type": "code",
   "execution_count": 11,
   "metadata": {},
   "outputs": [
    {
     "name": "stdout",
     "output_type": "stream",
     "text": [
      "MAE: 2.052628319222066, Stdev: 0.11669657087454505\n"
     ]
    },
    {
     "data": {
      "image/png": "[encoded data removed]",
      "text/plain": [
       "<Figure size 640x480 with 6 Axes>"
      ]
     },
     "metadata": {},
     "output_type": "display_data"
    }
   ],
   "source": [
    "data = dataset.copy() # mengcopy dataset yang sudah di proses  \n",
    "data = data.select_dtypes(include='number')\n",
    "y = data['pencapaian_kecepatan']\n",
    "X = data.drop('pencapaian_kecepatan',axis=1)\n",
    "\n",
    "model = LinearRegression()\n",
    "\n",
    "evaluate(model,X,y)\n",
    "\n",
    "# histograms of the variables\n",
    "fig = dataset.hist(xlabelsize=4,ylabelsize=4)\n",
    "[x.title.set_size(4) for x in fig.ravel()]\n",
    "\n",
    "# show the plot\n",
    "pyplot.show()"
   ]
  },
  {
   "cell_type": "markdown",
   "metadata": {},
   "source": [
    "### 2. Membuat histogram untuk tiga cara: (normalisasi, standarisasi, dan robust scaler) untuk fitur numerik"
   ]
  },
  {
   "cell_type": "markdown",
   "metadata": {},
   "source": [
    "Menggunakan normalisasi MinMaxScaler"
   ]
  },
  {
   "cell_type": "code",
   "execution_count": 12,
   "metadata": {},
   "outputs": [
    {
     "name": "stdout",
     "output_type": "stream",
     "text": [
      "MAE: 2.052628319222064, Stdev: 0.11669657087454519\n"
     ]
    },
    {
     "data": {
      "image/png": "[encoded data removed]",
      "text/plain": [
       "<Figure size 640x480 with 6 Axes>"
      ]
     },
     "metadata": {},
     "output_type": "display_data"
    }
   ],
   "source": [
    "data = dataset.copy() # copy dataset yang sudah dibersihkan\n",
    "data = data.select_dtypes(include='number') # mengambil hanya kolom yang berisi angka\n",
    "\n",
    "y = data['pencapaian_kecepatan']\n",
    "X = data.drop('pencapaian_kecepatan',axis=1)\n",
    "\n",
    "# define the pipeline\n",
    "trans = MinMaxScaler()\n",
    "model = LinearRegression()\n",
    "X_normalised = trans.fit_transform(X)\n",
    "\n",
    "evaluate(model,X_normalised,y)\n",
    "\n",
    "# histograms of the variables\n",
    "fig = data.hist(xlabelsize=4,ylabelsize=4)\n",
    "[x.title.set_size(4) for x in fig.ravel()]\n",
    "\n",
    "# show the plot\n",
    "pyplot.show()"
   ]
  },
  {
   "cell_type": "markdown",
   "metadata": {},
   "source": [
    "Menggunakan standarisasi"
   ]
  },
  {
   "cell_type": "code",
   "execution_count": 13,
   "metadata": {},
   "outputs": [
    {
     "name": "stdout",
     "output_type": "stream",
     "text": [
      "MAE: 2.052628319222066, Stdev: 0.11669657087454535\n"
     ]
    },
    {
     "data": {
      "image/png": "[encoded data removed]",
      "text/plain": [
       "<Figure size 640x480 with 6 Axes>"
      ]
     },
     "metadata": {},
     "output_type": "display_data"
    }
   ],
   "source": [
    "data = dataset.copy() # copy dataset yang sudah dibersihkan\n",
    "data = data.select_dtypes(include='number') # mengambil hanya kolom yang berisi angka\n",
    "\n",
    "y = data['pencapaian_kecepatan']\n",
    "X = data.drop('pencapaian_kecepatan',axis=1)\n",
    "\n",
    "# define the pipeline\n",
    "trans = StandardScaler()\n",
    "model = LinearRegression()\n",
    "X_standard = trans.fit_transform(X)\n",
    "\n",
    "evaluate(model,X_standard,y)\n",
    "\n",
    "# histograms of the variables\n",
    "fig = data.hist(xlabelsize=4,ylabelsize=4)\n",
    "[x.title.set_size(4) for x in fig.ravel()]\n",
    "\n",
    "# show the plot\n",
    "pyplot.show()"
   ]
  },
  {
   "cell_type": "markdown",
   "metadata": {},
   "source": [
    "Menggunakan robust scaler"
   ]
  },
  {
   "cell_type": "code",
   "execution_count": 14,
   "metadata": {},
   "outputs": [
    {
     "name": "stdout",
     "output_type": "stream",
     "text": [
      "MAE: 2.0526283192220656, Stdev: 0.11669657087454516\n"
     ]
    },
    {
     "data": {
      "image/png": "[encoded data removed]",
      "text/plain": [
       "<Figure size 640x480 with 6 Axes>"
      ]
     },
     "metadata": {},
     "output_type": "display_data"
    }
   ],
   "source": [
    "data = dataset.copy() # copy dataset yang sudah dibersihkan\n",
    "data = data.select_dtypes(include='number') # mengambil hanya kolom yang berisi angka\n",
    "\n",
    "y = data['pencapaian_kecepatan']\n",
    "X = data.drop('pencapaian_kecepatan',axis=1)\n",
    "\n",
    "# define the pipeline\n",
    "trans = RobustScaler()\n",
    "model = LinearRegression()\n",
    "X_robust = trans.fit_transform(X)\n",
    "\n",
    "evaluate(model,X_robust,y)\n",
    "\n",
    "\n",
    "# histograms of the variables\n",
    "fig = data.hist(xlabelsize=4,ylabelsize=4)\n",
    "[x.title.set_size(4) for x in fig.ravel()]\n",
    "\n",
    "# show the plot\n",
    "pyplot.show()"
   ]
  },
  {
   "cell_type": "markdown",
   "metadata": {},
   "source": [
    "### Menggunakan onehot encoder dan ordinal encoder terhadap dataset untuk fitur kategorial."
   ]
  },
  {
   "cell_type": "markdown",
   "metadata": {},
   "source": [
    "Dengan onehot encoder"
   ]
  },
  {
   "cell_type": "code",
   "execution_count": 15,
   "metadata": {},
   "outputs": [
    {
     "data": {
      "text/plain": [
       "(984, 55)"
      ]
     },
     "metadata": {},
     "output_type": "display_data"
    },
    {
     "name": "stdout",
     "output_type": "stream",
     "text": [
      "MAE: 3.1203503788500897, Stdev: 0.46155273496905735\n"
     ]
    }
   ],
   "source": [
    "data = dataset.copy() # mengcopy dataset yang sudah di proses  \n",
    "y = data['pencapaian_kecepatan']\n",
    "X = data.select_dtypes('object') # untuk mendapatkan yang kategorial saja\n",
    "\n",
    "model = LinearRegression()\n",
    "encoder = OneHotEncoder(sparse_output=True)\n",
    "X_onehot = encoder.fit_transform(X)\n",
    "\n",
    "display(X_onehot.shape)\n",
    "\n",
    "evaluate(model,X_onehot,y)"
   ]
  },
  {
   "cell_type": "markdown",
   "metadata": {},
   "source": [
    "Dengan ordinal encoder"
   ]
  },
  {
   "cell_type": "code",
   "execution_count": 16,
   "metadata": {},
   "outputs": [
    {
     "data": {
      "text/plain": [
       "(984, 3)"
      ]
     },
     "metadata": {},
     "output_type": "display_data"
    },
    {
     "name": "stdout",
     "output_type": "stream",
     "text": [
      "MAE: 3.6464982244202573, Stdev: 0.6473613865715019\n"
     ]
    }
   ],
   "source": [
    "data = dataset.copy() # mengcopy dataset yang sudah di proses  \n",
    "y = data['pencapaian_kecepatan']\n",
    "X = data.select_dtypes('object') # untuk mendapatkan yang kategorial saja\n",
    "\n",
    "model = LinearRegression()\n",
    "encoder = OrdinalEncoder()\n",
    "X_ordinal = encoder.fit_transform(X)\n",
    "\n",
    "display(X_ordinal.shape)\n",
    "\n",
    "evaluate(model,X_ordinal,y)"
   ]
  },
  {
   "cell_type": "markdown",
   "metadata": {},
   "source": [
    "### 4. Menggunakan kombinasi transformasi data untuk semua fitur."
   ]
  },
  {
   "cell_type": "markdown",
   "metadata": {},
   "source": [
    "OneHot + MinMaxScaler"
   ]
  },
  {
   "cell_type": "code",
   "execution_count": 17,
   "metadata": {},
   "outputs": [
    {
     "name": "stdout",
     "output_type": "stream",
     "text": [
      "MAE: 1.332099329328249, Stdev: 0.15545039734955335\n"
     ]
    }
   ],
   "source": [
    "data = dataset.copy() # mengcopy dataset yang sudah di proses  \n",
    "y = data['pencapaian_kecepatan']\n",
    "X = hstack([X_onehot,X_normalised]) # Gunakan hstack untuk X_onehot karena bentuknya adalah sparse matrix\n",
    "model = LinearRegression()\n",
    "\n",
    "evaluate(model,X,y)"
   ]
  },
  {
   "cell_type": "markdown",
   "metadata": {},
   "source": [
    "OneHot + StandardScaler"
   ]
  },
  {
   "cell_type": "code",
   "execution_count": 18,
   "metadata": {},
   "outputs": [
    {
     "name": "stdout",
     "output_type": "stream",
     "text": [
      "MAE: 1.331872114340516, Stdev: 0.15524952125984873\n"
     ]
    }
   ],
   "source": [
    "data = dataset.copy() # mengcopy dataset yang sudah di proses  \n",
    "y = data['pencapaian_kecepatan']\n",
    "X = hstack([X_onehot,X_standard])\n",
    "model = LinearRegression()\n",
    "\n",
    "evaluate(model,X,y)"
   ]
  },
  {
   "cell_type": "markdown",
   "metadata": {},
   "source": [
    "OneHot + RobustScaler"
   ]
  },
  {
   "cell_type": "code",
   "execution_count": 19,
   "metadata": {},
   "outputs": [
    {
     "name": "stdout",
     "output_type": "stream",
     "text": [
      "MAE: 1.3318805298335026, Stdev: 0.15525751443085736\n"
     ]
    }
   ],
   "source": [
    "data = dataset.copy() # mengcopy dataset yang sudah di proses  \n",
    "y = data['pencapaian_kecepatan']\n",
    "X = hstack([X_onehot,X_robust])\n",
    "model = LinearRegression()\n",
    "\n",
    "evaluate(model,X,y)"
   ]
  },
  {
   "cell_type": "markdown",
   "metadata": {},
   "source": [
    "Ordinal + MinMax\n"
   ]
  },
  {
   "cell_type": "code",
   "execution_count": 20,
   "metadata": {},
   "outputs": [
    {
     "name": "stdout",
     "output_type": "stream",
     "text": [
      "MAE: 2.165160002238872, Stdev: 0.35764715716872114\n"
     ]
    }
   ],
   "source": [
    "data = dataset.copy() # mengcopy dataset yang sudah di proses  \n",
    "y = data['pencapaian_kecepatan']\n",
    "X = np.concatenate((X_ordinal,X_normalised),axis=1)\n",
    "\n",
    "model = LinearRegression()\n",
    "\n",
    "evaluate(model,X,y)"
   ]
  },
  {
   "cell_type": "markdown",
   "metadata": {},
   "source": [
    "Ordinal + Standarisasi"
   ]
  },
  {
   "cell_type": "code",
   "execution_count": 21,
   "metadata": {},
   "outputs": [
    {
     "name": "stdout",
     "output_type": "stream",
     "text": [
      "MAE: 2.1651600022388764, Stdev: 0.35764715716872475\n"
     ]
    }
   ],
   "source": [
    "data = dataset.copy() # mengcopy dataset yang sudah di proses  \n",
    "y = data['pencapaian_kecepatan']\n",
    "X = np.concatenate((X_ordinal,X_standard),axis=1)\n",
    "\n",
    "model = LinearRegression()\n",
    "\n",
    "evaluate(model,X,y)"
   ]
  },
  {
   "cell_type": "markdown",
   "metadata": {},
   "source": [
    "Ordinal + RobustScaler"
   ]
  },
  {
   "cell_type": "code",
   "execution_count": 22,
   "metadata": {},
   "outputs": [
    {
     "name": "stdout",
     "output_type": "stream",
     "text": [
      "MAE: 2.165160002238876, Stdev: 0.3576471571687249\n"
     ]
    }
   ],
   "source": [
    "data = dataset.copy() # mengcopy dataset yang sudah di proses  \n",
    "y = data['pencapaian_kecepatan']\n",
    "X = np.concatenate((X_ordinal,X_robust),axis=1)\n",
    "\n",
    "model = LinearRegression()\n",
    "\n",
    "evaluate(model,X,y)"
   ]
  },
  {
   "cell_type": "markdown",
   "metadata": {},
   "source": [
    "### 5. Perbandingan akurasi setiap skenario (dengan metrik MAE)"
   ]
  },
  {
   "cell_type": "markdown",
   "metadata": {},
   "source": [
    "1. Original data MAE: 2.052 (0.116)\n",
    "2. MinMaxScaler MAE: 2.052 (0.116)\n",
    "3. StandardScaler MAE: 2.052 (0.116)\n",
    "4. RobustScaler MAE: 2.052 (0.116)\n",
    "5. OrdinalEncoder MAE: 3.646 (0.647)\n",
    "6. OneHotEncoder MAE: 3.120 (0.461)\n",
    "7. OneHotEncoder + MinMaxScaler MAE: 1.332 (0.155)\n",
    "8. OrdinalEncoder + MinMaxScaler MAE: 2.165 (0.358)\n",
    "9. OneHotEncoder + StandardScaler MAE: 1.332 (0.155)\n",
    "10. OrdinalEncoder + StandardScaler MAE: 2.165 (0.358)\n",
    "11. OneHotEncoder + RobustScaler MAE: 1.332 (0.155)\n",
    "12. OrdinalEncoder + RobustScaler MAE: 2.165 (0.358)"
   ]
  },
  {
   "cell_type": "markdown",
   "metadata": {},
   "source": [
    "### Kesimpulan"
   ]
  },
  {
   "cell_type": "markdown",
   "metadata": {},
   "source": [
    "Dari hasil perbanding diatas dapat dilihat metode yang memberikan MAE paling tinggi adalah dengan Ordinal Encoder saja dan yang paling rendah adalah kombinasi OneHot Encoder dengan scaler yang manapun. Walaupun begitu ini tidak memastikan bahwa metode Ordinal Encoder dengan scaler apa saja merupakan metode pembersihan data yang paling optimal untuk dataset ini melainkan yang memberikan MAE paling rendah.\n",
    "\n",
    "Bisa dilihat dari histogram bahwa distribusi antara data original, normalisasi, standarisasi, dan robust scaler tidak menunjukkan perbedaan yang signifikan dan juga memberikan nilai MAE dan stdev yang sama. Selain itu metode OneHot encoder dengan scaler apapun dan juga OrdinalEncoder dengan scaler apapun masing-masing menjukkan nilai sama untuk setiap kombinasi scaler "
   ]
  }
 ],
 "metadata": {
  "kernelspec": {
   "display_name": "preprocessing",
   "language": "python",
   "name": "python3"
  },
  "language_info": {
   "codemirror_mode": {
    "name": "ipython",
    "version": 3
   },
   "file_extension": ".py",
   "mimetype": "text/x-python",
   "name": "python",
   "nbconvert_exporter": "python",
   "pygments_lexer": "ipython3",
   "version": "3.10.12"
  }
 },
 "nbformat": 4,
 "nbformat_minor": 2
}
